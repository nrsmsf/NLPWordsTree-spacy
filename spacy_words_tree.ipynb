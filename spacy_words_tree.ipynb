{
 "cells": [
  {
   "cell_type": "code",
   "execution_count": 24,
   "metadata": {},
   "outputs": [],
   "source": [
    "import spacy\n",
    "from nltk import Tree\n",
    "squids_text = \"So many squids are jumping out of suitcases these days that you can barely go anywhere without seeing one burst forth from a tightly packed valise. I went to the dentist the other day, and sure enough I saw an angry one jump out of my dentist's bag within minutes of arriving. She hardly even noticed.\""
   ]
  },
  {
   "cell_type": "code",
   "execution_count": 33,
   "metadata": {},
   "outputs": [],
   "source": [
    "dependency_parser = spacy.load('en_core_web_sm')\n",
    "parsed_squids = dependency_parser(squids_text)"
   ]
  },
  {
   "cell_type": "code",
   "execution_count": 34,
   "metadata": {},
   "outputs": [],
   "source": [
    "my_sentence = \"Today I was very busy so I didn't go to the lake.\"\n",
    "my_parsed_sentence = dependency_parser(my_sentence)"
   ]
  },
  {
   "cell_type": "code",
   "execution_count": 37,
   "metadata": {},
   "outputs": [
    {
     "name": "stdout",
     "output_type": "stream",
     "text": [
      "                                    jumping                                                   \n",
      "  _____________________________________|__________________                                     \n",
      " |   |    |        |       |                              go                                  \n",
      " |   |    |        |       |     _________________________|____________                        \n",
      " |   |    |        |       |    |      |     |    |       |         without                   \n",
      " |   |    |        |       |    |      |     |    |       |            |                       \n",
      " |   |    |        |       |    |      |     |    |       |          seeing                   \n",
      " |   |    |        |       |    |      |     |    |       |            |                       \n",
      " |   |    |        |       |    |      |     |    |       |          burst                    \n",
      " |   |    |        |       |    |      |     |    |       |       _____|__________             \n",
      " |   |    |        |       |    |      |     |    |       |      |     |         from         \n",
      " |   |    |        |       |    |      |     |    |       |      |     |          |            \n",
      " |   |  squids    out      |    |      |     |    |       |      |     |        valise        \n",
      " |   |    |        |       |    |      |     |    |       |      |     |      ____|_______     \n",
      " |   |   many      of     days  |      |     |    |       |      |     |     |          packed\n",
      " |   |    |        |       |    |      |     |    |       |      |     |     |            |    \n",
      "are  .    So   suitcases these that   you   can barely anywhere one  forth   a         tightly\n",
      "\n",
      "                                 went                                                   \n",
      "  ________________________________|________________________                              \n",
      " |   |   |   |     |         |                            saw                           \n",
      " |   |   |   |     |         |          ___________________|____                         \n",
      " |   |   |   |     |         |         |    |                  jump                     \n",
      " |   |   |   |     |         |         |    |          _________|__________________      \n",
      " |   |   |   |     |         |         |    |         |               out          |    \n",
      " |   |   |   |     |         |         |    |         |                |           |     \n",
      " |   |   |   |     |         |         |    |         |                of        within \n",
      " |   |   |   |     |         |         |    |         |                |           |     \n",
      " |   |   |   |     to        |         |    |         |               bag       minutes \n",
      " |   |   |   |     |         |         |    |         |                |           |     \n",
      " |   |   |   |  dentist     day        |   sure      one            dentist        of   \n",
      " |   |   |   |     |      ___|____     |    |      ___|____      ______|_____      |     \n",
      " I   ,  and  .    the   the     other  I  enough  an     angry  my           's arriving\n",
      "\n",
      "    noticed         \n",
      "  _____|__________   \n",
      "She  hardly even  . \n",
      "\n",
      "      was     \n",
      "   ____|___    \n",
      "  |    |  busy\n",
      "  |    |   |   \n",
      "Today  I  very\n",
      "\n",
      "         go             \n",
      "  _______|___________    \n",
      " |   |   |   |   |   to \n",
      " |   |   |   |   |   |   \n",
      " |   |   |   |   |  lake\n",
      " |   |   |   |   |   |   \n",
      " so  I  did n't  .  the \n",
      "\n"
     ]
    }
   ],
   "source": [
    "def to_nltk_tree(node):\n",
    "  if node.n_lefts + node.n_rights > 0:\n",
    "    parsed_child_nodes = [to_nltk_tree(child) for child in node.children]\n",
    "    return Tree(node.orth_, parsed_child_nodes)\n",
    "  else:\n",
    "    return node.orth_\n",
    "\n",
    "for sent in parsed_squids.sents:\n",
    "  to_nltk_tree(sent.root).pretty_print()\n",
    "  \n",
    "for sent in my_parsed_sentence.sents:\n",
    " to_nltk_tree(sent.root).pretty_print()"
   ]
  },
  {
   "cell_type": "code",
   "execution_count": null,
   "metadata": {},
   "outputs": [],
   "source": []
  }
 ],
 "metadata": {
  "kernelspec": {
   "display_name": "Python 3",
   "language": "python",
   "name": "python3"
  },
  "language_info": {
   "codemirror_mode": {
    "name": "ipython",
    "version": 3
   },
   "file_extension": ".py",
   "mimetype": "text/x-python",
   "name": "python",
   "nbconvert_exporter": "python",
   "pygments_lexer": "ipython3",
   "version": "3.7.6"
  }
 },
 "nbformat": 4,
 "nbformat_minor": 4
}
